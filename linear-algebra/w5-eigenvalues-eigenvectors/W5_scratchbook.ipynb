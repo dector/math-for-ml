{
 "cells": [
  {
   "cell_type": "code",
   "execution_count": 2,
   "metadata": {},
   "outputs": [
    {
     "name": "stdout",
     "output_type": "stream",
     "text": [
      "Populating the interactive namespace from numpy and matplotlib\n"
     ]
    }
   ],
   "source": [
    "%pylab notebook\n",
    "import numpy as np\n",
    "import numpy.linalg as la\n",
    "from readonly.PageRankFunctions import *\n",
    "np.set_printoptions(suppress=True)"
   ]
  },
  {
   "cell_type": "code",
   "execution_count": 27,
   "metadata": {},
   "outputs": [],
   "source": [
    "L = np.array([[0,   1/2, 1/3, 0, 0,   0 ],\n",
    "              [1/3, 0,   0,   0, 1/2, 1/2 ],\n",
    "              [1/3, 1/2, 0,   1, 0,   0 ],\n",
    "              [1/3, 0,   1/3, 0, 1/2, 0 ],\n",
    "              [0,   0,   0,   0, 0,   1/2 ],\n",
    "              [0,   0,   1/3, 0, 0,   0 ]])"
   ]
  },
  {
   "cell_type": "code",
   "execution_count": 28,
   "metadata": {},
   "outputs": [
    {
     "name": "stdout",
     "output_type": "stream",
     "text": [
      "Values:  [ 1.       +0.j         -0.5209251+0.12753039j -0.5209251-0.12753039j\n",
      "  0.0209251+0.38003382j  0.0209251-0.38003382j -0.       +0.j        ]\n",
      "Vectors:  [[-0.38996632+0.j          0.62645101+0.j          0.62645101-0.j\n",
      "  -0.19173982-0.35855615j -0.19173982+0.35855615j  0.80178373+0.j        ]\n",
      " [-0.30724619+0.j         -0.39493419-0.02793696j -0.39493419+0.02793696j\n",
      "   0.50193799+0.j          0.50193799-0.j          0.        +0.j        ]\n",
      " [-0.70902968+0.j         -0.38660087+0.28158007j -0.38660087-0.28158007j\n",
      "  -0.35615312-0.24111132j -0.35615312+0.24111132j  0.        +0.j        ]\n",
      " [-0.42541781+0.j          0.15413017-0.18201701j  0.15413017+0.18201701j\n",
      "  -0.10287781-0.02087679j -0.10287781+0.02087679j -0.26726124+0.j        ]\n",
      " [-0.11817161+0.j         -0.27405524+0.04122697j -0.27405524-0.04122697j\n",
      "   0.37682428+0.32071053j  0.37682428-0.32071053j -0.53452248+0.j        ]\n",
      " [-0.23634323+0.j          0.27500912-0.11285308j  0.27500912+0.11285308j\n",
      "  -0.22799152+0.29983374j -0.22799152-0.29983374j  0.        +0.j        ]]\n"
     ]
    }
   ],
   "source": [
    "eVals, eVecs = la.eig(L)\n",
    "\n",
    "print(\"Values: \", eVals)\n",
    "print(\"Vectors: \", eVecs)"
   ]
  },
  {
   "cell_type": "code",
   "execution_count": 29,
   "metadata": {},
   "outputs": [
    {
     "name": "stdout",
     "output_type": "stream",
     "text": [
      "Values:  [ 1.       +0.j         -0.5209251-0.12753039j -0.5209251+0.12753039j\n",
      "  0.0209251-0.38003382j  0.0209251+0.38003382j -0.       +0.j        ]\n",
      "Vectors:  [[-0.38996632+0.j          0.62645101-0.j          0.62645101+0.j\n",
      "  -0.19173982+0.35855615j -0.19173982-0.35855615j  0.80178373+0.j        ]\n",
      " [-0.30724619+0.j         -0.39493419+0.02793696j -0.39493419-0.02793696j\n",
      "   0.50193799-0.j          0.50193799+0.j          0.        +0.j        ]\n",
      " [-0.70902968+0.j         -0.38660087-0.28158007j -0.38660087+0.28158007j\n",
      "  -0.35615312+0.24111132j -0.35615312-0.24111132j  0.        +0.j        ]\n",
      " [-0.42541781+0.j          0.15413017+0.18201701j  0.15413017-0.18201701j\n",
      "  -0.10287781+0.02087679j -0.10287781-0.02087679j -0.26726124+0.j        ]\n",
      " [-0.11817161+0.j         -0.27405524-0.04122697j -0.27405524+0.04122697j\n",
      "   0.37682428-0.32071053j  0.37682428+0.32071053j -0.53452248+0.j        ]\n",
      " [-0.23634323+0.j          0.27500912+0.11285308j  0.27500912-0.11285308j\n",
      "  -0.22799152-0.29983374j -0.22799152+0.29983374j  0.        +0.j        ]]\n"
     ]
    }
   ],
   "source": [
    "order = np.absolute(eVals).argsort()[::-1]\n",
    "\n",
    "eVals = eVals[order]\n",
    "print(\"Values: \", eVals)\n",
    "\n",
    "eVecs = eVecs[:,order]\n",
    "print(\"Vectors: \", eVecs)"
   ]
  },
  {
   "cell_type": "code",
   "execution_count": 34,
   "metadata": {},
   "outputs": [
    {
     "name": "stdout",
     "output_type": "stream",
     "text": [
      "[-0.38996632+0.j -0.30724619+0.j -0.70902968+0.j -0.42541781+0.j\n",
      " -0.11817161+0.j -0.23634323+0.j]\n"
     ]
    },
    {
     "data": {
      "text/plain": [
       "array([17.83783784, 14.05405405, 32.43243243, 19.45945946,  5.40540541,\n",
       "       10.81081081])"
      ]
     },
     "execution_count": 34,
     "metadata": {},
     "output_type": "execute_result"
    }
   ],
   "source": [
    "r = eVecs[:, 0]\n",
    "print(r)\n",
    "\n",
    "100 * np.real(r / np.sum(r))"
   ]
  },
  {
   "cell_type": "code",
   "execution_count": 88,
   "metadata": {},
   "outputs": [
    {
     "data": {
      "text/plain": [
       "array([16.66666667, 16.66666667, 16.66666667, 16.66666667, 16.66666667,\n",
       "       16.66666667])"
      ]
     },
     "execution_count": 88,
     "metadata": {},
     "output_type": "execute_result"
    }
   ],
   "source": [
    "r = 100 * np.ones(6) / 6\n",
    "r"
   ]
  },
  {
   "cell_type": "code",
   "execution_count": 83,
   "metadata": {},
   "outputs": [
    {
     "data": {
      "text/plain": [
       "array([17.83783784, 14.05405405, 32.43243243, 19.45945946,  5.40540541,\n",
       "       10.81081081])"
      ]
     },
     "execution_count": 83,
     "metadata": {},
     "output_type": "execute_result"
    }
   ],
   "source": [
    "r = L @ r\n",
    "r"
   ]
  },
  {
   "cell_type": "code",
   "execution_count": 91,
   "metadata": {},
   "outputs": [
    {
     "name": "stdout",
     "output_type": "stream",
     "text": [
      "r now is:  [17.83783782 14.05405406 32.43243246 19.45945945  5.40540542 10.8108108 ]\n",
      "Took  31  iterations\n"
     ]
    }
   ],
   "source": [
    "r = 100 * np.ones(6) / 6\n",
    "\n",
    "iteration = 0\n",
    "prevR = r\n",
    "\n",
    "r = L @ r\n",
    "\n",
    "while la.norm(r - prevR) > 1e-7:\n",
    "    prevR = r\n",
    "    r = L @ r\n",
    "    iteration += 1\n",
    "    \n",
    "print(\"r now is: \", r)\n",
    "print(\"Took \", iteration, \" iterations\")"
   ]
  },
  {
   "cell_type": "code",
   "execution_count": 100,
   "metadata": {
    "scrolled": true
   },
   "outputs": [
    {
     "data": {
      "text/plain": [
       "array([[0.125, 0.125, 0.125, 0.125],\n",
       "       [0.125, 0.125, 0.125, 0.125],\n",
       "       [0.125, 0.125, 0.125, 0.125],\n",
       "       [0.125, 0.125, 0.125, 0.125]])"
      ]
     },
     "execution_count": 100,
     "metadata": {},
     "output_type": "execute_result"
    }
   ],
   "source": [
    "n = 4\n",
    "d = 0.5\n",
    "dampM = ((1 - d) / n) * np.ones((n, n))\n",
    "\n",
    "dampM"
   ]
  },
  {
   "cell_type": "code",
   "execution_count": 129,
   "metadata": {
    "scrolled": true
   },
   "outputs": [
    {
     "name": "stdout",
     "output_type": "stream",
     "text": [
      "L:\n",
      " [[0.1 0.1 0.8]\n",
      " [0.8 0.1 0.1]\n",
      " [0.1 0.8 0.1]]\n",
      "[0.33333333 0.33333333 0.33333333]\n",
      "[ 1.  +0.j         -0.35+0.60621778j -0.35-0.60621778j]\n",
      "[[ 0.57735027+0.j  -0.28867513+0.5j -0.28867513-0.5j]\n",
      " [ 0.57735027+0.j   0.57735027+0.j   0.57735027-0.j ]\n",
      " [ 0.57735027+0.j  -0.28867513-0.5j -0.28867513+0.5j]]\n"
     ]
    }
   ],
   "source": [
    "L = np.array([[0.1, 0.1, 0.8],\n",
    "              [0.8, 0.1, 0.1],\n",
    "              [0.1, 0.8, 0.1]])\n",
    "print(\"L:\\n\", L)\n",
    "\n",
    "r = 1/3 * np.ones(3)\n",
    "\n",
    "rPrev = r\n",
    "r = L @ r\n",
    "\n",
    "while la.norm(r - rPrev) > 1e-5:\n",
    "    rPrev = r\n",
    "    r = L @ r\n",
    "    \n",
    "print(r)\n",
    "\n",
    "w, v = la.eig(L)\n",
    "print(w)\n",
    "print(v)\n",
    "\n"
   ]
  },
  {
   "cell_type": "code",
   "execution_count": 131,
   "metadata": {},
   "outputs": [
    {
     "name": "stdout",
     "output_type": "stream",
     "text": [
      "[-0.6  0.6  1.  -0.6]\n",
      "[[ 0.70710678 -0.5        -0.5        -0.05633503]\n",
      " [-0.70710678 -0.5        -0.5         0.05633503]\n",
      " [ 0.          0.5        -0.5        -0.70485911]\n",
      " [ 0.          0.5        -0.5         0.70485911]]\n"
     ]
    },
    {
     "data": {
      "text/plain": [
       "0.21599999999999997"
      ]
     },
     "execution_count": 131,
     "metadata": {},
     "output_type": "execute_result"
    }
   ],
   "source": [
    "L2 = np.array([[0.1, 0.7, 0.1, 0.1 ],\n",
    "            [0.7, 0.1, 0.1, 0.1],\n",
    "            [0.1, 0.1, 0.1, 0.7],\n",
    "            [0.1, 0.1, 0.7, 0.1]])\n",
    "\n",
    "w, v = la.eig(L2)\n",
    "print(w)\n",
    "print(v)\n",
    "\n",
    "la.det(L2)"
   ]
  },
  {
   "cell_type": "code",
   "execution_count": 135,
   "metadata": {},
   "outputs": [
    {
     "name": "stdout",
     "output_type": "stream",
     "text": [
      "[ 1.       +0.j         -0.5209251+0.12753039j -0.5209251-0.12753039j\n",
      "  0.0209251+0.38003382j  0.0209251-0.38003382j -0.       +0.j        ]\n",
      "[[-0.38996632+0.j          0.62645101+0.j          0.62645101-0.j\n",
      "  -0.19173982-0.35855615j -0.19173982+0.35855615j  0.80178373+0.j        ]\n",
      " [-0.30724619+0.j         -0.39493419-0.02793696j -0.39493419+0.02793696j\n",
      "   0.50193799+0.j          0.50193799-0.j          0.        +0.j        ]\n",
      " [-0.70902968+0.j         -0.38660087+0.28158007j -0.38660087-0.28158007j\n",
      "  -0.35615312-0.24111132j -0.35615312+0.24111132j  0.        +0.j        ]\n",
      " [-0.42541781+0.j          0.15413017-0.18201701j  0.15413017+0.18201701j\n",
      "  -0.10287781-0.02087679j -0.10287781+0.02087679j -0.26726124+0.j        ]\n",
      " [-0.11817161+0.j         -0.27405524+0.04122697j -0.27405524-0.04122697j\n",
      "   0.37682428+0.32071053j  0.37682428-0.32071053j -0.53452248+0.j        ]\n",
      " [-0.23634323+0.j          0.27500912-0.11285308j  0.27500912+0.11285308j\n",
      "  -0.22799152+0.29983374j -0.22799152-0.29983374j  0.        +0.j        ]]\n",
      "1.3656430895551814\n"
     ]
    }
   ],
   "source": [
    "L = np.array([[0,   1/2, 1/3, 0, 0,   0 ],\n",
    "              [1/3, 0,   0,   0, 1/2, 1/2 ],\n",
    "              [1/3, 1/2, 0,   1, 0,   0 ],\n",
    "              [1/3, 0,   1/3, 0, 1/2, 0 ],\n",
    "              [0,   0,   0,   0, 0,   1/2 ],\n",
    "              [0,   0,   1/3, 0, 0,   0 ]])\n",
    "\n",
    "eVals, eVecs = la.eig(L)\n",
    "print(eVals)\n",
    "print(eVecs)\n",
    "\n",
    "print(la.norm(eVals))"
   ]
  }
 ],
 "metadata": {
  "kernelspec": {
   "display_name": "Python 3",
   "language": "python",
   "name": "python3"
  },
  "language_info": {
   "codemirror_mode": {
    "name": "ipython",
    "version": 3
   },
   "file_extension": ".py",
   "mimetype": "text/x-python",
   "name": "python",
   "nbconvert_exporter": "python",
   "pygments_lexer": "ipython3",
   "version": "3.7.2"
  }
 },
 "nbformat": 4,
 "nbformat_minor": 2
}
